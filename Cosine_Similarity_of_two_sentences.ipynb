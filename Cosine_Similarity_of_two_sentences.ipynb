{
  "nbformat": 4,
  "nbformat_minor": 0,
  "metadata": {
    "colab": {
      "provenance": [],
      "authorship_tag": "ABX9TyOcREHmGyBP9edPwkvqAPOM",
      "include_colab_link": true
    },
    "kernelspec": {
      "name": "python3",
      "display_name": "Python 3"
    },
    "language_info": {
      "name": "python"
    }
  },
  "cells": [
    {
      "cell_type": "markdown",
      "metadata": {
        "id": "view-in-github",
        "colab_type": "text"
      },
      "source": [
        "<a href=\"https://colab.research.google.com/github/TrinaDutta95/Analyzing-hallucinations-in-machine-summarization/blob/main/Cosine_Similarity_of_two_sentences.ipynb\" target=\"_parent\"><img src=\"https://colab.research.google.com/assets/colab-badge.svg\" alt=\"Open In Colab\"/></a>"
      ]
    },
    {
      "cell_type": "markdown",
      "source": [
        "Import libraries"
      ],
      "metadata": {
        "id": "uJDEMpyoAuFT"
      }
    },
    {
      "cell_type": "code",
      "source": [
        "import nltk\n",
        "nltk.download('punkt')"
      ],
      "metadata": {
        "colab": {
          "base_uri": "https://localhost:8080/"
        },
        "id": "DxaZzGDUAy0A",
        "outputId": "03e8d101-e847-49de-d189-94b6be612467"
      },
      "execution_count": 1,
      "outputs": [
        {
          "output_type": "stream",
          "name": "stderr",
          "text": [
            "[nltk_data] Downloading package punkt to /root/nltk_data...\n",
            "[nltk_data]   Unzipping tokenizers/punkt.zip.\n"
          ]
        },
        {
          "output_type": "execute_result",
          "data": {
            "text/plain": [
              "True"
            ]
          },
          "metadata": {},
          "execution_count": 1
        }
      ]
    },
    {
      "cell_type": "markdown",
      "source": [
        "Create the pandas DataFrame to make a clear visualization of vectorize data along with tokens."
      ],
      "metadata": {
        "id": "kPaD4fU7EVjc"
      }
    },
    {
      "cell_type": "code",
      "source": [
        "import pandas as pd\n",
        "\n",
        "def create_dataframe(matrix, tokens):\n",
        "\n",
        "    doc_names = [f'doc_{i+1}' for i, _ in enumerate(matrix)]\n",
        "    df = pd.DataFrame(data=matrix, index=doc_names, columns=tokens)\n",
        "    return(df)"
      ],
      "metadata": {
        "id": "8mijV8CUEY9e"
      },
      "execution_count": 2,
      "outputs": []
    },
    {
      "cell_type": "markdown",
      "source": [
        "Define the data"
      ],
      "metadata": {
        "id": "cKQQP56iDkQY"
      }
    },
    {
      "cell_type": "code",
      "execution_count": 3,
      "metadata": {
        "id": "jmEgw14dDcLN"
      },
      "outputs": [],
      "source": [
        "doc_1 = \"A £9.2m painting by Domenichino has gone on show in the UK for the first time since it was saved from export.\""
      ]
    },
    {
      "cell_type": "code",
      "source": [
        "source = '''A Baroque masterpiece valued at £9.2m has been saved for the nation after an anonymous buyer stepped in to\n",
        "prevent it going overseas. Saint John the Evangelist, painted by Italian master Domenichino, was bought by\n",
        "a buyer from abroad in December, but its export licence was deferred. Another collector stepped forward who\n",
        "will allow it to be regularly displayed in public. It has now gone on show at the National Gallery in London.\n",
        "Domenichino’s painting was done for the Giustiniani family in the 1620s. They were among Rome’s most important\n",
        "collectors and owned a dozen works by Caravaggio. The oil painting, measuring 2 x 2.6 metres, is said to be the\n",
        "finest painting by Domenichino to remain in private hands, and the most important of his work in the UK. The\n",
        "painting was purchased by an overseas collector in December 2009 but the export licence was deferred - by the Re-\n",
        "viewing Committee on the Export of Works of Art and Objects of Cultural Interest (RCEWA) - to allow attempts\n",
        "to keep the work in the UK. Rules allow private offers if public access is available to artworks for 100 days within\n",
        "a 12-month period. National Gallery director Dr Nicholas Penny paid tribute to the unnamed collector for their\n",
        "”imagination and confidence”. ”The result is a triumph for the National Gallery, but also for enlightened legislation\n",
        "and its efficient administration,” he said. National Gallery curator Dawson Carr said: ”It is undoubtedly the best\n",
        "work by the artist remaining in private hands and its export would have been lamentable for the representation of\n",
        "Italian Baroque painting in this country.”'''"
      ],
      "metadata": {
        "id": "a88V0dJFBCwA"
      },
      "execution_count": 4,
      "outputs": []
    },
    {
      "cell_type": "markdown",
      "source": [
        "Calculationg cosine - similarity using CountVectorizer"
      ],
      "metadata": {
        "id": "qy0IjCPBEgIi"
      }
    },
    {
      "cell_type": "code",
      "source": [
        "from sklearn.feature_extraction.text import CountVectorizer\n",
        "from sklearn.metrics.pairwise import cosine_similarity\n",
        "\n",
        "tokens = nltk.sent_tokenize(source)\n",
        "\n",
        "for t in tokens:\n",
        "    print(t,\" \",\"\\n\")\n",
        "    doc_2=t\n",
        "    #each evaluation set\n",
        "    data = [doc_1, doc_2]\n",
        "\n",
        "    #Call CountVectorizer\n",
        "    count_vectorizer = CountVectorizer()\n",
        "    vector_matrix = count_vectorizer.fit_transform(data)\n",
        "    # vector_matrix\n",
        "\n",
        "    #Unique tokens list found in the data\n",
        "    tokens = count_vectorizer.get_feature_names_out()\n",
        "    # tokens\n",
        "\n",
        "    #Convert sparse vector matrix to numpy array to visualize the vectorized data of doc_1 and doc_2\n",
        "    # print(vector_matrix.toarray())\n",
        "\n",
        "    # print(create_dataframe(vector_matrix.toarray(),tokens))\n",
        "\n",
        "    #Find Cosine Similarity\n",
        "    cosine_similarity_matrix = cosine_similarity(vector_matrix)\n",
        "    print(create_dataframe(cosine_similarity_matrix,['doc_1','doc_2']))\n"
      ],
      "metadata": {
        "colab": {
          "base_uri": "https://localhost:8080/"
        },
        "id": "2v1Lo6i2BRBn",
        "outputId": "902048d6-3c40-4e41-e25e-684a7ecaf06c"
      },
      "execution_count": 7,
      "outputs": [
        {
          "output_type": "stream",
          "name": "stdout",
          "text": [
            "A Baroque masterpiece valued at £9.2m has been saved for the nation after an anonymous buyer stepped in to\n",
            "prevent it going overseas.   \n",
            "\n",
            "          doc_1     doc_2\n",
            "doc_1  1.000000  0.355643\n",
            "doc_2  0.355643  1.000000\n",
            "Saint John the Evangelist, painted by Italian master Domenichino, was bought by\n",
            "a buyer from abroad in December, but its export licence was deferred.   \n",
            "\n",
            "          doc_1     doc_2\n",
            "doc_1  1.000000  0.401286\n",
            "doc_2  0.401286  1.000000\n",
            "Another collector stepped forward who\n",
            "will allow it to be regularly displayed in public.   \n",
            "\n",
            "          doc_1     doc_2\n",
            "doc_1  1.000000  0.111456\n",
            "doc_2  0.111456  1.000000\n",
            "It has now gone on show at the National Gallery in London.   \n",
            "\n",
            "          doc_1     doc_2\n",
            "doc_1  1.000000  0.481543\n",
            "doc_2  0.481543  1.000000\n",
            "Domenichino’s painting was done for the Giustiniani family in the 1620s.   \n",
            "\n",
            "          doc_1     doc_2\n",
            "doc_1  1.000000  0.520483\n",
            "doc_2  0.520483  1.000000\n",
            "They were among Rome’s most important\n",
            "collectors and owned a dozen works by Caravaggio.   \n",
            "\n",
            "          doc_1     doc_2\n",
            "doc_1  1.000000  0.057831\n",
            "doc_2  0.057831  1.000000\n",
            "The oil painting, measuring 2 x 2.6 metres, is said to be the\n",
            "finest painting by Domenichino to remain in private hands, and the most important of his work in the UK.   \n",
            "\n",
            "          doc_1     doc_2\n",
            "doc_1  1.000000  0.456224\n",
            "doc_2  0.456224  1.000000\n",
            "The\n",
            "painting was purchased by an overseas collector in December 2009 but the export licence was deferred - by the Re-\n",
            "viewing Committee on the Export of Works of Art and Objects of Cultural Interest (RCEWA) - to allow attempts\n",
            "to keep the work in the UK.   \n",
            "\n",
            "         doc_1    doc_2\n",
            "doc_1  1.00000  0.50274\n",
            "doc_2  0.50274  1.00000\n",
            "Rules allow private offers if public access is available to artworks for 100 days within\n",
            "a 12-month period.   \n",
            "\n",
            "          doc_1     doc_2\n",
            "doc_1  1.000000  0.049147\n",
            "doc_2  0.049147  1.000000\n",
            "National Gallery director Dr Nicholas Penny paid tribute to the unnamed collector for their\n",
            "”imagination and confidence”.   \n",
            "\n",
            "          doc_1     doc_2\n",
            "doc_1  1.000000  0.151717\n",
            "doc_2  0.151717  1.000000\n",
            "”The result is a triumph for the National Gallery, but also for enlightened legislation\n",
            "and its efficient administration,” he said.   \n",
            "\n",
            "         doc_1    doc_2\n",
            "doc_1  1.00000  0.26087\n",
            "doc_2  0.26087  1.00000\n",
            "National Gallery curator Dawson Carr said: ”It is undoubtedly the best\n",
            "work by the artist remaining in private hands and its export would have been lamentable for the representation of\n",
            "Italian Baroque painting in this country.”   \n",
            "\n",
            "          doc_1     doc_2\n",
            "doc_1  1.000000  0.408651\n",
            "doc_2  0.408651  1.000000\n"
          ]
        }
      ]
    },
    {
      "cell_type": "markdown",
      "source": [
        "Calculationg cosine - similarity using TfidfVectorizer"
      ],
      "metadata": {
        "id": "O79n3FjaE-Vl"
      }
    },
    {
      "cell_type": "code",
      "source": [
        "from sklearn.metrics.pairwise import cosine_similarity\n",
        "from sklearn.feature_extraction.text import TfidfVectorizer\n",
        "\n",
        "tokens = nltk.sent_tokenize(source)\n",
        "\n",
        "for t in tokens:\n",
        "    print(t,\" \",\"\\n\")\n",
        "    doc_2=t\n",
        "    #each evaluation set\n",
        "    data = [doc_1, doc_2]\n",
        "\n",
        "    #Call TfidfVectorizer\n",
        "    Tfidf_vect = TfidfVectorizer()\n",
        "    vector_matrix = Tfidf_vect.fit_transform(data)\n",
        "    \n",
        "    tokens = Tfidf_vect.get_feature_names_out()\n",
        "    create_dataframe(vector_matrix.toarray(),tokens)\n",
        "\n",
        "    cosine_similarity_matrix = cosine_similarity(vector_matrix)\n",
        "    print(create_dataframe(cosine_similarity_matrix,['doc_1','doc_2']))"
      ],
      "metadata": {
        "colab": {
          "base_uri": "https://localhost:8080/"
        },
        "id": "epgKbqkEE9mH",
        "outputId": "8d94dd03-493b-4216-c083-0092b9f243ba"
      },
      "execution_count": 9,
      "outputs": [
        {
          "output_type": "stream",
          "name": "stdout",
          "text": [
            "A Baroque masterpiece valued at £9.2m has been saved for the nation after an anonymous buyer stepped in to\n",
            "prevent it going overseas.   \n",
            "\n",
            "          doc_1     doc_2\n",
            "doc_1  1.000000  0.221291\n",
            "doc_2  0.221291  1.000000\n",
            "Saint John the Evangelist, painted by Italian master Domenichino, was bought by\n",
            "a buyer from abroad in December, but its export licence was deferred.   \n",
            "\n",
            "          doc_1     doc_2\n",
            "doc_1  1.000000  0.262565\n",
            "doc_2  0.262565  1.000000\n",
            "Another collector stepped forward who\n",
            "will allow it to be regularly displayed in public.   \n",
            "\n",
            "          doc_1     doc_2\n",
            "doc_1  1.000000  0.059824\n",
            "doc_2  0.059824  1.000000\n",
            "It has now gone on show at the National Gallery in London.   \n",
            "\n",
            "          doc_1     doc_2\n",
            "doc_1  1.000000  0.326016\n",
            "doc_2  0.326016  1.000000\n",
            "Domenichino’s painting was done for the Giustiniani family in the 1620s.   \n",
            "\n",
            "          doc_1     doc_2\n",
            "doc_1  1.000000  0.361591\n",
            "doc_2  0.361591  1.000000\n",
            "They were among Rome’s most important\n",
            "collectors and owned a dozen works by Caravaggio.   \n",
            "\n",
            "          doc_1     doc_2\n",
            "doc_1  1.000000  0.030175\n",
            "doc_2  0.030175  1.000000\n",
            "The oil painting, measuring 2 x 2.6 metres, is said to be the\n",
            "finest painting by Domenichino to remain in private hands, and the most important of his work in the UK.   \n",
            "\n",
            "          doc_1     doc_2\n",
            "doc_1  1.000000  0.303805\n",
            "doc_2  0.303805  1.000000\n",
            "The\n",
            "painting was purchased by an overseas collector in December 2009 but the export licence was deferred - by the Re-\n",
            "viewing Committee on the Export of Works of Art and Objects of Cultural Interest (RCEWA) - to allow attempts\n",
            "to keep the work in the UK.   \n",
            "\n",
            "          doc_1     doc_2\n",
            "doc_1  1.000000  0.347664\n",
            "doc_2  0.347664  1.000000\n",
            "Rules allow private offers if public access is available to artworks for 100 days within\n",
            "a 12-month period.   \n",
            "\n",
            "          doc_1     doc_2\n",
            "doc_1  1.000000  0.025504\n",
            "doc_2  0.025504  1.000000\n",
            "National Gallery director Dr Nicholas Penny paid tribute to the unnamed collector for their\n",
            "”imagination and confidence”.   \n",
            "\n",
            "          doc_1     doc_2\n",
            "doc_1  1.000000  0.083761\n",
            "doc_2  0.083761  1.000000\n",
            "”The result is a triumph for the National Gallery, but also for enlightened legislation\n",
            "and its efficient administration,” he said.   \n",
            "\n",
            "          doc_1     doc_2\n",
            "doc_1  1.000000  0.153588\n",
            "doc_2  0.153588  1.000000\n",
            "National Gallery curator Dawson Carr said: ”It is undoubtedly the best\n",
            "work by the artist remaining in private hands and its export would have been lamentable for the representation of\n",
            "Italian Baroque painting in this country.”   \n",
            "\n",
            "          doc_1     doc_2\n",
            "doc_1  1.000000  0.261327\n",
            "doc_2  0.261327  1.000000\n"
          ]
        }
      ]
    }
  ]
}