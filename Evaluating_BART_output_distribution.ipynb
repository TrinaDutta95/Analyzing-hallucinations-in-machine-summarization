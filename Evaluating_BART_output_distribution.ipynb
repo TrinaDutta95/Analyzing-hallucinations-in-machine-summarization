{
  "nbformat": 4,
  "nbformat_minor": 0,
  "metadata": {
    "colab": {
      "provenance": [],
      "authorship_tag": "ABX9TyOkYAfx2suOJxahWNPskEnw",
      "include_colab_link": true
    },
    "kernelspec": {
      "name": "python3",
      "display_name": "Python 3"
    },
    "language_info": {
      "name": "python"
    },
    "accelerator": "GPU"
  },
  "cells": [
    {
      "cell_type": "markdown",
      "metadata": {
        "id": "view-in-github",
        "colab_type": "text"
      },
      "source": [
        "<a href=\"https://colab.research.google.com/github/TrinaDutta95/Analyzing-hallucinations-in-machine-summarization/blob/main/Evaluating_BART_output_distribution.ipynb\" target=\"_parent\"><img src=\"https://colab.research.google.com/assets/colab-badge.svg\" alt=\"Open In Colab\"/></a>"
      ]
    },
    {
      "cell_type": "markdown",
      "source": [
        "Installing transformers:"
      ],
      "metadata": {
        "id": "fNYNXPd58fa9"
      }
    },
    {
      "cell_type": "code",
      "source": [
        "!pip install transformers"
      ],
      "metadata": {
        "colab": {
          "base_uri": "https://localhost:8080/"
        },
        "id": "mE9TmDRlfTQW",
        "outputId": "b9918674-7c9b-4784-db69-901cf9e602e4"
      },
      "execution_count": null,
      "outputs": [
        {
          "output_type": "stream",
          "name": "stdout",
          "text": [
            "Looking in indexes: https://pypi.org/simple, https://us-python.pkg.dev/colab-wheels/public/simple/\n",
            "Requirement already satisfied: transformers in /usr/local/lib/python3.9/dist-packages (4.28.1)\n",
            "Requirement already satisfied: tqdm>=4.27 in /usr/local/lib/python3.9/dist-packages (from transformers) (4.65.0)\n",
            "Requirement already satisfied: filelock in /usr/local/lib/python3.9/dist-packages (from transformers) (3.11.0)\n",
            "Requirement already satisfied: regex!=2019.12.17 in /usr/local/lib/python3.9/dist-packages (from transformers) (2022.10.31)\n",
            "Requirement already satisfied: huggingface-hub<1.0,>=0.11.0 in /usr/local/lib/python3.9/dist-packages (from transformers) (0.13.4)\n",
            "Requirement already satisfied: numpy>=1.17 in /usr/local/lib/python3.9/dist-packages (from transformers) (1.22.4)\n",
            "Requirement already satisfied: packaging>=20.0 in /usr/local/lib/python3.9/dist-packages (from transformers) (23.0)\n",
            "Requirement already satisfied: tokenizers!=0.11.3,<0.14,>=0.11.1 in /usr/local/lib/python3.9/dist-packages (from transformers) (0.13.3)\n",
            "Requirement already satisfied: pyyaml>=5.1 in /usr/local/lib/python3.9/dist-packages (from transformers) (6.0)\n",
            "Requirement already satisfied: requests in /usr/local/lib/python3.9/dist-packages (from transformers) (2.27.1)\n",
            "Requirement already satisfied: typing-extensions>=3.7.4.3 in /usr/local/lib/python3.9/dist-packages (from huggingface-hub<1.0,>=0.11.0->transformers) (4.5.0)\n",
            "Requirement already satisfied: charset-normalizer~=2.0.0 in /usr/local/lib/python3.9/dist-packages (from requests->transformers) (2.0.12)\n",
            "Requirement already satisfied: certifi>=2017.4.17 in /usr/local/lib/python3.9/dist-packages (from requests->transformers) (2022.12.7)\n",
            "Requirement already satisfied: idna<4,>=2.5 in /usr/local/lib/python3.9/dist-packages (from requests->transformers) (3.4)\n",
            "Requirement already satisfied: urllib3<1.27,>=1.21.1 in /usr/local/lib/python3.9/dist-packages (from requests->transformers) (1.26.15)\n"
          ]
        }
      ]
    },
    {
      "cell_type": "markdown",
      "source": [
        "# **Summarizing document:**"
      ],
      "metadata": {
        "id": "3mST6lnx8kQu"
      }
    },
    {
      "cell_type": "markdown",
      "source": [
        "Reading the input file from a text:"
      ],
      "metadata": {
        "id": "2L66NqH8Jdz_"
      }
    },
    {
      "cell_type": "code",
      "source": [
        "file = open(\"e44.txt\", \"r\")\n",
        "text = file.read()\n",
        "print(text)"
      ],
      "metadata": {
        "colab": {
          "base_uri": "https://localhost:8080/"
        },
        "id": "Osc6Uel1JdLF",
        "outputId": "08380a10-6ab8-4a22-a754-94c15289f6b0"
      },
      "execution_count": null,
      "outputs": [
        {
          "output_type": "stream",
          "name": "stdout",
          "text": [
            "Media outlets - private TV stations in particular - have mushroomed in the post-Taliban years.\n",
            "Radio, the main source of entertainment and news, is losing audiences to TV.\n",
            "By early 2014 there were 68 private TV stations, operating alongside national state TV and 22 state-owned provincial channels. There are 174 radio stations, 47 of them in Kabul.\n",
            "The government has signed a deal with Paris-based Eutelsat to deploy a satellite for Afghanistan's use. This will help Afghan broadcasters to reach all corners of the country.\n",
            "Hundreds of press titles publish under a wide range of ownerships - from the government, provincial political-military powers and private owners to foreign and NGO sponsors.\n",
            "Australian-Afghan Moby Group operates some leading stations, including Tolo (Sunrise) TV and Arman FM.\n",
            "Much of the output on private TVs consists of imported Turkish and Indian music shows and serials, and programmes modelled on Western formats. Tolo TV is the most popular national station.\n",
            "Journalists \"routinely face violence, threats, and intimidation by security forces and officials\", says Freedom House (2013).\n",
            "Laws ban material that is deemed to be against Islamic law and some private stations have angered religious conservatives. TV stations self-censor, and often partially-pixelate images of women.\n",
            "Foreign-based or foreign-funded radios broadcast in Kabul, including the BBC (89 FM), Radio France Internationale, Deutsche Welle and US-backed networks Radio Free Afghanistan (broadcasting as Azadi Radio) and the Voice of America, which brands in Dari and Pashto as Radio Ashna (\"Friend\").\n",
            "BBC World Service is available on FM in other major cities, and on shortwave across Afghanistan.\n",
            "Newspaper readership has seen a significant leap, from almost nil under Taliban rule. Newspapers tend to reflect more openly on domestic developments than do broadcasters.\n",
            "Internet access is limited and computer literacy and ownership rates are low. In 2014, 6% of Afghans were using the internet, according to InternetLiveStats.com.\n",
            "Facebook is used by some younger Afghans and the political elite. But limited and expensive internet access acts as a brake on social media use.\n"
          ]
        }
      ]
    },
    {
      "cell_type": "markdown",
      "source": [
        "Importing BART_large_Xsum model:"
      ],
      "metadata": {
        "id": "20iNX3mtlK-v"
      }
    },
    {
      "cell_type": "code",
      "source": [
        "from transformers import BartTokenizer, BartForConditionalGeneration\n",
        "\n",
        "#initializing BART model and tokenizer\n",
        "model = BartForConditionalGeneration.from_pretrained(\"facebook/bart-large-xsum\")\n",
        "tokenizer = BartTokenizer.from_pretrained(\"facebook/bart-large-xsum\")\n",
        "\n",
        "inputs = tokenizer([text], max_length=1024, return_tensors=\"pt\")\n",
        "\n"
      ],
      "metadata": {
        "colab": {
          "base_uri": "https://localhost:8080/"
        },
        "id": "qyLKpR2NgUNP",
        "outputId": "310aac41-2702-4db7-fcc6-73001b779a02"
      },
      "execution_count": null,
      "outputs": [
        {
          "output_type": "stream",
          "name": "stderr",
          "text": [
            "Truncation was not explicitly activated but `max_length` is provided a specific value, please use `truncation=True` to explicitly truncate examples to max length. Defaulting to 'longest_first' truncation strategy. If you encode pairs of sequences (GLUE-style) with the tokenizer you can select this strategy more precisely by providing a specific strategy to `truncation`.\n"
          ]
        }
      ]
    },
    {
      "cell_type": "markdown",
      "source": [
        "Creating file to store summary of a document:"
      ],
      "metadata": {
        "id": "_N-lnFi3Dz7k"
      }
    },
    {
      "cell_type": "code",
      "source": [
        "file1 = open(\"MyFile.txt\", \"a+\") "
      ],
      "metadata": {
        "id": "LA34ylkGD9gm"
      },
      "execution_count": null,
      "outputs": []
    },
    {
      "cell_type": "markdown",
      "source": [
        "**Summry using greedy search:**"
      ],
      "metadata": {
        "id": "z4w3VshX85Dd"
      }
    },
    {
      "cell_type": "code",
      "source": [
        "ids = model.generate(inputs[\"input_ids\"])\n",
        "l = tokenizer.batch_decode(ids, skip_special_tokens=True, clean_up_tokenization_spaces=False)[0]\n",
        "s = ''.join(l)+\"\\n\"\n",
        "print(s)\n",
        "file1.write(s)\n",
        "print(file1.read())"
      ],
      "metadata": {
        "colab": {
          "base_uri": "https://localhost:8080/"
        },
        "id": "2SIM8CA9yOfa",
        "outputId": "bdf7c1bd-5eed-4463-e6b6-8d086315288c"
      },
      "execution_count": null,
      "outputs": [
        {
          "output_type": "stream",
          "name": "stderr",
          "text": [
            "/usr/local/lib/python3.9/dist-packages/transformers/generation/utils.py:1313: UserWarning: Using `max_length`'s default (62) to control the generation length. This behaviour is deprecated and will be removed from the config in v5 of Transformers -- we recommend using `max_new_tokens` to control the maximum length of the generation.\n",
            "  warnings.warn(\n"
          ]
        },
        {
          "output_type": "stream",
          "name": "stdout",
          "text": [
            "Afghanistan has one of the world's highest levels of media literacy, according to the International Press Institute (IPI).\n",
            "\n",
            "\n"
          ]
        }
      ]
    },
    {
      "cell_type": "markdown",
      "source": [
        "**Summary with different beam size and max/min length:**"
      ],
      "metadata": {
        "id": "uo0CO4Rn89W5"
      }
    },
    {
      "cell_type": "code",
      "source": [
        "# Generate Summary\n",
        "summary_ids = model.generate(inputs[\"input_ids\"], num_beams=6, min_length=0, max_length=40)\n",
        "l = tokenizer.batch_decode(summary_ids, skip_special_tokens=True, clean_up_tokenization_spaces=False)[0]\n",
        "s = ''.join(l)+\"\\n\"\n",
        "print(s)\n",
        "file1.write(s)\n",
        "print(file1.read())"
      ],
      "metadata": {
        "colab": {
          "base_uri": "https://localhost:8080/"
        },
        "id": "lskPR02eC-RW",
        "outputId": "f8e62bc0-a83c-4f4f-ae53-095b78583526"
      },
      "execution_count": null,
      "outputs": [
        {
          "output_type": "stream",
          "name": "stdout",
          "text": [
            "Afghanistan has one of the world's highest levels of media literacy, according to the International Press Institute (IPI).\n",
            "\n",
            "\n"
          ]
        }
      ]
    },
    {
      "cell_type": "code",
      "source": [
        "# Generate Summary\n",
        "summary_ids = model.generate(inputs[\"input_ids\"], num_beams=2, min_length=0, max_length=40)\n",
        "l = tokenizer.batch_decode(summary_ids, skip_special_tokens=True, clean_up_tokenization_spaces=False)[0]\n",
        "s = ''.join(l)+\"\\n\"\n",
        "print(s)\n",
        "file1.write(s)\n",
        "print(file1.read())"
      ],
      "metadata": {
        "colab": {
          "base_uri": "https://localhost:8080/"
        },
        "id": "eNySRMHJ4D0n",
        "outputId": "aefaaea0-7aa8-44ce-eea0-70a778bc0b9b"
      },
      "execution_count": null,
      "outputs": [
        {
          "output_type": "stream",
          "name": "stdout",
          "text": [
            "Afghanistan's media scene is dominated by private and foreign-funded broadcasters and newspapers.\n",
            "\n",
            "\n"
          ]
        }
      ]
    },
    {
      "cell_type": "code",
      "source": [
        "# Generate Summary\n",
        "summary_ids = model.generate(inputs[\"input_ids\"], num_beams=6, min_length=0, max_length=20)\n",
        "l = tokenizer.batch_decode(summary_ids, skip_special_tokens=True, clean_up_tokenization_spaces=False)[0]\n",
        "s = ''.join(l)+\"\\n\"\n",
        "print(s)\n",
        "file1.write(s)\n",
        "print(file1.read())"
      ],
      "metadata": {
        "colab": {
          "base_uri": "https://localhost:8080/"
        },
        "id": "Zu0NBxfx4JMN",
        "outputId": "20135ee6-12a5-4781-abc9-bfcee11f904d"
      },
      "execution_count": null,
      "outputs": [
        {
          "output_type": "stream",
          "name": "stdout",
          "text": [
            "Afghanistan has one of the world's highest levels of media literacy, according to the\n",
            "\n",
            "\n"
          ]
        }
      ]
    },
    {
      "cell_type": "code",
      "source": [
        "# Generate Summary\n",
        "summary_ids = model.generate(inputs[\"input_ids\"], num_beams=2, min_length=0, max_length=20)\n",
        "l = tokenizer.batch_decode(summary_ids, skip_special_tokens=True, clean_up_tokenization_spaces=False)[0]\n",
        "s = ''.join(l)+\"\\n\"\n",
        "print(s)\n",
        "file1.write(s)\n",
        "print(file1.read())"
      ],
      "metadata": {
        "colab": {
          "base_uri": "https://localhost:8080/"
        },
        "id": "t5QKsBWU4MHw",
        "outputId": "bc5d9dd2-eafc-4c67-b493-a3828a877066"
      },
      "execution_count": null,
      "outputs": [
        {
          "output_type": "stream",
          "name": "stdout",
          "text": [
            "President: Ashraf Ghani.\n",
            "\n",
            "\n"
          ]
        }
      ]
    },
    {
      "cell_type": "code",
      "source": [
        "# Generate Summary\n",
        "summary_ids = model.generate(inputs[\"input_ids\"], num_beams=2, min_length=0, max_length=30)\n",
        "l = tokenizer.batch_decode(summary_ids, skip_special_tokens=True, clean_up_tokenization_spaces=False)[0]\n",
        "s = ''.join(l)+\"\\n\"\n",
        "print(s)\n",
        "file1.write(s)\n",
        "print(file1.read())"
      ],
      "metadata": {
        "colab": {
          "base_uri": "https://localhost:8080/"
        },
        "id": "Rp8mdMjy5IQa",
        "outputId": "d99ef9dd-71e2-48b2-cae6-9af7faaba1f9"
      },
      "execution_count": null,
      "outputs": [
        {
          "output_type": "stream",
          "name": "stdout",
          "text": [
            "Four suspects have been found guilty of the murder of 298 people in the downing of a Malaysia Airlines plane in eastern Ukraine.\n",
            "\n",
            "\n"
          ]
        }
      ]
    },
    {
      "cell_type": "code",
      "source": [
        "# Generate Summary\n",
        "summary_ids = model.generate(inputs[\"input_ids\"], num_beams=6, min_length=0, max_length=30)\n",
        "l = tokenizer.batch_decode(summary_ids, skip_special_tokens=True, clean_up_tokenization_spaces=False)[0]\n",
        "s = ''.join(l)+\"\\n\"\n",
        "print(s)\n",
        "file1.write(s)\n",
        "print(file1.read())"
      ],
      "metadata": {
        "colab": {
          "base_uri": "https://localhost:8080/"
        },
        "id": "YPgxYWgk7Kzx",
        "outputId": "2ab11f49-1ed1-4546-80b0-bcbb51553e3a"
      },
      "execution_count": null,
      "outputs": [
        {
          "output_type": "stream",
          "name": "stdout",
          "text": [
            "One of the world's most successful anti-poverty projects could be about to take another step forward.\n",
            "\n",
            "\n"
          ]
        }
      ]
    },
    {
      "cell_type": "code",
      "source": [
        "# Generate Summary\n",
        "summary_ids = model.generate(inputs[\"input_ids\"], num_beams=3, min_length=0, max_length=40)\n",
        "l = tokenizer.batch_decode(summary_ids, skip_special_tokens=True, clean_up_tokenization_spaces=False)[0]\n",
        "s = ''.join(l)+\"\\n\"\n",
        "print(s)\n",
        "file1.write(s)\n",
        "print(file1.read())"
      ],
      "metadata": {
        "colab": {
          "base_uri": "https://localhost:8080/"
        },
        "id": "jeZom3kS7TYI",
        "outputId": "f829fb7d-af54-4b82-ca45-f3ad879c55db"
      },
      "execution_count": null,
      "outputs": [
        {
          "output_type": "stream",
          "name": "stdout",
          "text": [
            "Afghanistan's media scene is dominated by private and foreign-funded broadcasters and newspapers.\n",
            "\n",
            "\n"
          ]
        }
      ]
    },
    {
      "cell_type": "code",
      "source": [
        "# Generate Summary\n",
        "summary_ids = model.generate(inputs[\"input_ids\"], num_beams= 24, min_length=20, max_length=60)\n",
        "l = tokenizer.batch_decode(summary_ids, skip_special_tokens=True, clean_up_tokenization_spaces=False)[0]\n",
        "s = ''.join(l)+\"\\n\"\n",
        "print(s)\n",
        "file1.write(s)\n",
        "print(file1.read())"
      ],
      "metadata": {
        "colab": {
          "base_uri": "https://localhost:8080/"
        },
        "id": "Ejb9a_rQLymE",
        "outputId": "50f61788-2f84-4b1e-e448-2ab83b9335b0"
      },
      "execution_count": null,
      "outputs": [
        {
          "output_type": "stream",
          "name": "stdout",
          "text": [
            "Afghanistan has one of the world's highest levels of media literacy, according to the International Institute for Strategic Studies (IISS).\n",
            "\n",
            "\n"
          ]
        }
      ]
    },
    {
      "cell_type": "code",
      "source": [
        "# Generate Summary\n",
        "summary_ids = model.generate(inputs[\"input_ids\"], num_beams=100, min_length=20, max_length=60)\n",
        "l = tokenizer.batch_decode(summary_ids, skip_special_tokens=True, clean_up_tokenization_spaces=False)[0]\n",
        "s = ''.join(l)+\"\\n\"\n",
        "print(s)\n",
        "file1.write(s)\n",
        "print(file1.read())"
      ],
      "metadata": {
        "id": "6WpTnCxlNIGZ",
        "colab": {
          "base_uri": "https://localhost:8080/"
        },
        "outputId": "28ab0763-2990-42ca-ddb3-d57d6c4d1cac"
      },
      "execution_count": null,
      "outputs": [
        {
          "output_type": "stream",
          "name": "stdout",
          "text": [
            "Afghanistan has one of the highest levels of media literacy in the world, according to the International Institute for Strategic Studies (IISS).\n",
            "\n",
            "\n"
          ]
        }
      ]
    },
    {
      "cell_type": "markdown",
      "source": [
        "Removing duplicate lines from summary file:"
      ],
      "metadata": {
        "id": "EoVAtamTMWJU"
      }
    },
    {
      "cell_type": "code",
      "source": [
        "lines_seen = set()  # holds lines already seen\n",
        "outfile = open('MyNewFile.txt', \"w\")\n",
        "infile = open('MyFile.txt', \"r\")\n",
        "for line in infile:\n",
        "    #print(line)\n",
        "    if line not in lines_seen:  # not a duplicate\n",
        "        outfile.write(line)\n",
        "        lines_seen.add(line)\n",
        "outfile.close()\n",
        "for line in open('MyNewFile.txt', \"r\"):\n",
        "    print(line)"
      ],
      "metadata": {
        "colab": {
          "base_uri": "https://localhost:8080/"
        },
        "id": "Ca90OusEMY24",
        "outputId": "d84b5a4b-473f-4626-8a26-82e002592c2a"
      },
      "execution_count": null,
      "outputs": [
        {
          "output_type": "stream",
          "name": "stdout",
          "text": [
            "Afghanistan has one of the world's highest levels of media literacy, according to the International Press Institute (IPI).\n",
            "\n",
            "Afghanistan's media scene is dominated by private and foreign-funded broadcasters and newspapers.\n",
            "\n",
            "Afghanistan has one of the world's highest levels of media literacy, according to the\n",
            "\n",
            "Afghanistan has one of the world's highest levels of media literacy, according to the International Institute for Strategic Studies (IISS).\n",
            "\n",
            "Afghanistan has one of the highest levels of media literacy in the world, according to the International Institute for Strategic Studies (IISS).\n",
            "\n"
          ]
        }
      ]
    },
    {
      "cell_type": "markdown",
      "source": [
        "**Evaluating summary output tokens' proability distribution:**"
      ],
      "metadata": {
        "id": "-j_6TLwV9Cwy"
      }
    },
    {
      "cell_type": "code",
      "source": [
        "source = text\n",
        "\n",
        "\n",
        "#Preparing the source as tokens\n",
        "e_input = tokenizer(source,return_tensors='pt')"
      ],
      "metadata": {
        "id": "0DHjFlkAFFgI"
      },
      "execution_count": null,
      "outputs": []
    },
    {
      "cell_type": "markdown",
      "source": [
        "File to read summary from and tokenize:"
      ],
      "metadata": {
        "id": "iD7EXpmrNdtf"
      }
    },
    {
      "cell_type": "code",
      "source": [
        "file2 = open(\"MyNewFile.txt\",\"r\")\n",
        "summaries = []\n",
        "d_input = []\n",
        "for line in file2:\n",
        "  summaries.append(line)\n",
        "#Preparing the summary as tokens\n",
        "for i in summaries:\n",
        "  d_input.append(tokenizer(i,return_tensors='pt'))"
      ],
      "metadata": {
        "id": "9ppX4ILENZBy"
      },
      "execution_count": null,
      "outputs": []
    },
    {
      "cell_type": "markdown",
      "source": [
        "Importing torch:"
      ],
      "metadata": {
        "id": "0q2PywL79WIh"
      }
    },
    {
      "cell_type": "code",
      "source": [
        "import torch\n",
        "import torch.nn"
      ],
      "metadata": {
        "id": "eHJ7uS847sn0"
      },
      "execution_count": null,
      "outputs": []
    },
    {
      "cell_type": "markdown",
      "source": [
        "**Evaluating each summary:**"
      ],
      "metadata": {
        "id": "w8Z7CKP_9ZdP"
      }
    },
    {
      "cell_type": "code",
      "source": [
        "#creating file for summary stat probability:\n",
        "stat_file = open(\"StatFile.txt\",\"a+\")\n",
        "\n",
        "#evaulating each summary using foor loop\n",
        "for j in range(len(d_input)):\n",
        "  stat_file.write(summaries[j])\n",
        "  output = model(input_ids=e_input[\"input_ids\"], attention_mask=e_input[\"attention_mask\"], labels=d_input[j]['input_ids'])\n",
        "\n",
        "  summary_tokens = d_input[j][\"input_ids\"].squeeze()\n",
        "\n",
        "  for i, token_logits in enumerate(output.logits[0]):\n",
        "    probs = torch.nn.functional.softmax(token_logits, dim=0)\n",
        "    summ_token_prob = round(probs[summary_tokens[i].item()].item(),2)\n",
        "    _, preds = torch.topk(probs, k=5)\n",
        "    model_preds_topk = tokenizer.decode(preds).split()\n",
        "    s1 = str(tokenizer.decode(summary_tokens[i])) + \" \" + str(summ_token_prob) + \" \" + str(model_preds_topk) + \"\\n\"\n",
        "    print(s1)\n",
        "    stat_file.write(s1)\n",
        "    #print(f\"{tokenizer.decode(summary_tokens[i])}:{summ_token_prob}:{model_preds_topk}\")\n",
        "    for i in preds:\n",
        "      s2 = str(round(probs[i].item(),3)) + \" \" + tokenizer.decode(i) + \"\\n\"\n",
        "      stat_file.write(s2)\n",
        "      #print(round(probs[i].item(),3),tokenizer.decode(i))"
      ],
      "metadata": {
        "colab": {
          "base_uri": "https://localhost:8080/"
        },
        "id": "G6g2Vz_PaYi8",
        "outputId": "454d771e-f23c-46fa-e2bb-18c699e3c0fc"
      },
      "execution_count": null,
      "outputs": [
        {
          "output_type": "stream",
          "name": "stdout",
          "text": [
            "<s> 0.0 ['TheAfAsMediaA']\n",
            "\n",
            "Af 0.16 ['TheAfAsMediaA']\n",
            "\n",
            "ghan 0.82 ['ghangh', 'Afghans', 'Afghanistan', 'Afghan']\n",
            "\n",
            "istan 0.91 ['istan', 'media', 'journalists', 'television', 'broadcasters']\n",
            "\n",
            " has 0.22 [\"'s\", 'has', 'is', 'remains,']\n",
            "\n",
            " one 0.1 ['a', 'one', 'some', 'more', 'the']\n",
            "\n",
            " of 0.93 ['of', 'the', 'in', 'or-']\n",
            "\n",
            " the 0.91 ['the', 'Europe', 'Asia', 'Africa', 'world']\n",
            "\n",
            " world 0.55 ['world', 'highest', 'lowest', 'largest', 'most']\n",
            "\n",
            "'s 0.93 [\"'s�''t\", 'worst']\n",
            "\n",
            " highest 0.21 ['largest', 'highest', 'most', 'fastest', 'lowest']\n",
            "\n",
            " levels 0.25 ['levels', 'literacy', 'rates', 'media', 'proportion']\n",
            "\n",
            " of 0.91 ['of', 'in', '(', 'andOf']\n",
            "\n",
            " media 0.47 ['media', 'private', 'literacy', 'press', 'digital']\n",
            "\n",
            " literacy 0.56 ['literacy', 'freedom', 'plurality', 'plural', 'production']\n",
            "\n",
            ", 0.42 [',', 'and', 'but', '-', '(']\n",
            "\n",
            " according 0.1 ['but', 'with', 'and', 'according', 'yet']\n",
            "\n",
            " to 0.91 ['to', 'theto,', 'in']\n",
            "\n",
            " the 0.56 ['the', 'a', 'figures', 'World', 'UN']\n",
            "\n",
            " International 0.15 ['World', 'International', 'UN', 'United', 'Pew']\n",
            "\n",
            " Press 0.14 ['Institute', 'Press', 'Tele', 'Federation', 'Organization']\n",
            "\n",
            " Institute 0.91 ['Institute', 'Council', 'Foundation', 'Freedom', 'Academy']\n",
            "\n",
            " ( 0.38 [',', '(.', 'and', '-']\n",
            "\n",
            "IP 0.55 ['IP2012II20152013']\n",
            "\n",
            "I 0.97 ['IIIIs', 'Institutei']\n",
            "\n",
            "). 0.19 ['),).),);']\n",
            "\n",
            "\n",
            " 0.0 ['</s>.', '(', 'the', 'and']\n",
            "\n",
            "</s> 0.52 ['</s>.MediaTheThere']\n",
            "\n",
            "<s> 0.0 ['TheAfAsMediaA']\n",
            "\n",
            "Af 0.16 ['TheAfAsMediaA']\n",
            "\n",
            "ghan 0.82 ['ghangh', 'Afghans', 'Afghanistan', 'Afghan']\n",
            "\n",
            "istan 0.91 ['istan', 'media', 'journalists', 'television', 'broadcasters']\n",
            "\n",
            "'s 0.4 [\"'s\", 'has', 'is', 'remains,']\n",
            "\n",
            " media 0.54 ['media', 'press', 'public', 'private', 'state']\n",
            "\n",
            " scene 0.42 ['scene', 'landscape', 'are', 'have', 'environment']\n",
            "\n",
            " is 0.49 ['is', 'has', 'remains,', 'continues']\n",
            "\n",
            " dominated 0.15 ['dominated', 'in', 'fragmented', 'increasingly', 'diverse']\n",
            "\n",
            " by 0.93 ['by', 'and', 'inby,']\n",
            "\n",
            " private 0.19 ['two', 'private', 'state', 'three', 'the']\n",
            "\n",
            " and 0.28 ['and', 'broadcasters', 'TV', 'television,']\n",
            "\n",
            " foreign 0.44 ['foreign', 'state', 'public', 'commercial', 'government']\n",
            "\n",
            "- 0.31 ['broadcasters-', 'media', 'TV', 'radio']\n",
            "\n",
            "funded 0.64 ['fundedbackedbasedownedrun']\n",
            "\n",
            " broadcasters 0.51 ['broadcasters', 'media', 'radio', 'stations', 'TV']\n",
            "\n",
            " and 0.3 [',', 'and.', 'with', '-']\n",
            "\n",
            " newspapers 0.47 ['newspapers', 'media', 'press', 'a', 'news']\n",
            "\n",
            ". 0.15 [',.', 'with', 'and', 'that']\n",
            "\n",
            "\n",
            " 0.0 ['</s>.', 'and', 'the', '(']\n",
            "\n",
            "</s> 0.91 ['</s>.TheRadioMedia']\n",
            "\n",
            "<s> 0.0 ['TheAfAsMediaA']\n",
            "\n",
            "Af 0.16 ['TheAfAsMediaA']\n",
            "\n",
            "ghan 0.82 ['ghangh', 'Afghans', 'Afghanistan', 'Afghan']\n",
            "\n",
            "istan 0.91 ['istan', 'media', 'journalists', 'television', 'broadcasters']\n",
            "\n",
            " has 0.22 [\"'s\", 'has', 'is', 'remains,']\n",
            "\n",
            " one 0.1 ['a', 'one', 'some', 'more', 'the']\n",
            "\n",
            " of 0.93 ['of', 'the', 'in', 'or-']\n",
            "\n",
            " the 0.91 ['the', 'Europe', 'Asia', 'Africa', 'world']\n",
            "\n",
            " world 0.55 ['world', 'highest', 'lowest', 'largest', 'most']\n",
            "\n",
            "'s 0.93 [\"'s�''t\", 'worst']\n",
            "\n",
            " highest 0.21 ['largest', 'highest', 'most', 'fastest', 'lowest']\n",
            "\n",
            " levels 0.25 ['levels', 'literacy', 'rates', 'media', 'proportion']\n",
            "\n",
            " of 0.91 ['of', 'in', '(', 'andOf']\n",
            "\n",
            " media 0.47 ['media', 'private', 'literacy', 'press', 'digital']\n",
            "\n",
            " literacy 0.56 ['literacy', 'freedom', 'plurality', 'plural', 'production']\n",
            "\n",
            ", 0.42 [',', 'and', 'but', '-', '(']\n",
            "\n",
            " according 0.1 ['but', 'with', 'and', 'according', 'yet']\n",
            "\n",
            " to 0.91 ['to', 'theto,', 'in']\n",
            "\n",
            " the 0.56 ['the', 'a', 'figures', 'World', 'UN']\n",
            "\n",
            "\n",
            " 0.0 ['World', 'International', 'UN', 'United', 'Pew']\n",
            "\n",
            "</s> 0.0 [',', 'government', 'BBC', 'the', 'media']\n",
            "\n",
            "<s> 0.0 ['TheAfAsMediaA']\n",
            "\n",
            "Af 0.16 ['TheAfAsMediaA']\n",
            "\n",
            "ghan 0.82 ['ghangh', 'Afghans', 'Afghanistan', 'Afghan']\n",
            "\n",
            "istan 0.91 ['istan', 'media', 'journalists', 'television', 'broadcasters']\n",
            "\n",
            " has 0.22 [\"'s\", 'has', 'is', 'remains,']\n",
            "\n",
            " one 0.1 ['a', 'one', 'some', 'more', 'the']\n",
            "\n",
            " of 0.93 ['of', 'the', 'in', 'or-']\n",
            "\n",
            " the 0.91 ['the', 'Europe', 'Asia', 'Africa', 'world']\n",
            "\n",
            " world 0.55 ['world', 'highest', 'lowest', 'largest', 'most']\n",
            "\n",
            "'s 0.93 [\"'s�''t\", 'worst']\n",
            "\n",
            " highest 0.21 ['largest', 'highest', 'most', 'fastest', 'lowest']\n",
            "\n",
            " levels 0.25 ['levels', 'literacy', 'rates', 'media', 'proportion']\n",
            "\n",
            " of 0.91 ['of', 'in', '(', 'andOf']\n",
            "\n",
            " media 0.47 ['media', 'private', 'literacy', 'press', 'digital']\n",
            "\n",
            " literacy 0.56 ['literacy', 'freedom', 'plurality', 'plural', 'production']\n",
            "\n",
            ", 0.42 [',', 'and', 'but', '-', '(']\n",
            "\n",
            " according 0.1 ['but', 'with', 'and', 'according', 'yet']\n",
            "\n",
            " to 0.91 ['to', 'theto,', 'in']\n",
            "\n",
            " the 0.56 ['the', 'a', 'figures', 'World', 'UN']\n",
            "\n",
            " International 0.15 ['World', 'International', 'UN', 'United', 'Pew']\n",
            "\n",
            " Institute 0.23 ['Institute', 'Press', 'Tele', 'Federation', 'Organization']\n",
            "\n",
            " for 0.59 ['for', 'of', 'For', 'on', 'in']\n",
            "\n",
            " Strategic 0.79 ['Strategic', 'the', 'Public', 'Economic', 'Journalism']\n",
            "\n",
            " Studies 0.86 ['Studies', 'Dialogue', 'and', 'Communications', 'Affairs']\n",
            "\n",
            " ( 0.43 ['(,.', 'and', '-']\n",
            "\n",
            "I 0.41 ['IIIIsISIA']\n",
            "\n",
            "ISS 0.94 ['ISSISstASstat']\n",
            "\n",
            "). 0.22 ['),).),', '(']\n",
            "\n",
            "\n",
            " 0.0 ['</s>.', '(', 'the', 'and']\n",
            "\n",
            "</s> 0.58 ['</s>.MediaTheThere']\n",
            "\n",
            "<s> 0.0 ['TheAfAsMediaA']\n",
            "\n",
            "Af 0.16 ['TheAfAsMediaA']\n",
            "\n",
            "ghan 0.82 ['ghangh', 'Afghans', 'Afghanistan', 'Afghan']\n",
            "\n",
            "istan 0.91 ['istan', 'media', 'journalists', 'television', 'broadcasters']\n",
            "\n",
            " has 0.22 [\"'s\", 'has', 'is', 'remains,']\n",
            "\n",
            " one 0.1 ['a', 'one', 'some', 'more', 'the']\n",
            "\n",
            " of 0.93 ['of', 'the', 'in', 'or-']\n",
            "\n",
            " the 0.91 ['the', 'Europe', 'Asia', 'Africa', 'world']\n",
            "\n",
            " highest 0.14 ['world', 'highest', 'lowest', 'largest', 'most']\n",
            "\n",
            " levels 0.32 ['levels', 'literacy', 'rates', 'media', 'proportion']\n",
            "\n",
            " of 0.91 ['of', 'in', '(', 'and,']\n",
            "\n",
            " media 0.43 ['media', 'private', 'literacy', 'press', 'censorship']\n",
            "\n",
            " literacy 0.39 ['literacy', 'freedom', 'plurality', 'plural', 'ownership']\n",
            "\n",
            " in 0.6 ['in', 'and,', 'among', 'of']\n",
            "\n",
            " the 0.87 ['the', 'Europe', 'Afghanistan', 'Asia', 'Africa']\n",
            "\n",
            " world 0.8 ['world', 'region', 'Middle', 'developed', 'West']\n",
            "\n",
            ", 0.58 [',', 'and', 'but', '-', 'with']\n",
            "\n",
            " according 0.09 ['and', 'with', 'but', 'according', 'yet']\n",
            "\n",
            " to 0.9 ['to', 'theto,', 'in']\n",
            "\n",
            " the 0.54 ['the', 'a', 'figures', 'World', 'an']\n",
            "\n",
            " International 0.13 ['World', 'International', 'United', 'UN', 'Pew']\n",
            "\n",
            " Institute 0.2 ['Institute', 'Press', 'Tele', 'Organization', 'Federation']\n",
            "\n",
            " for 0.61 ['for', 'of', 'For', 'on', 'in']\n",
            "\n",
            " Strategic 0.8 ['Strategic', 'the', 'Public', 'Economic', 'Journalism']\n",
            "\n",
            " Studies 0.85 ['Studies', 'Dialogue', 'and', 'Communications', 'Services']\n",
            "\n",
            " ( 0.44 ['(,.', 'and', '-']\n",
            "\n",
            "I 0.38 ['IIIIsISISS']\n",
            "\n",
            "ISS 0.94 ['ISSISststatAS']\n",
            "\n",
            "). 0.28 ['),).),', '(']\n",
            "\n",
            "\n",
            " 0.0 ['</s>.', '(', 'the', 'and']\n",
            "\n",
            "</s> 0.6 ['</s>.MediaTheThere']\n",
            "\n"
          ]
        }
      ]
    },
    {
      "cell_type": "code",
      "source": [
        "import os\n",
        "\n",
        "dir_name = \"/content/\"\n",
        "test = os.listdir(dir_name)\n",
        "\n",
        "for item in test:\n",
        "    if item.endswith(\".txt\"):\n",
        "        os.remove(os.path.join(dir_name, item))"
      ],
      "metadata": {
        "id": "fF5OpohiVDuh"
      },
      "execution_count": null,
      "outputs": []
    }
  ]
}