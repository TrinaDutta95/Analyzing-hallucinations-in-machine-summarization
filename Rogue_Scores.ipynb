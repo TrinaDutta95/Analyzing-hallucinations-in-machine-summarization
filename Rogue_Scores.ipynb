{
  "nbformat": 4,
  "nbformat_minor": 0,
  "metadata": {
    "colab": {
      "provenance": [],
      "authorship_tag": "ABX9TyMXumKC9h+ZaYpnP7WHP424",
      "include_colab_link": true
    },
    "kernelspec": {
      "name": "python3",
      "display_name": "Python 3"
    },
    "language_info": {
      "name": "python"
    }
  },
  "cells": [
    {
      "cell_type": "markdown",
      "metadata": {
        "id": "view-in-github",
        "colab_type": "text"
      },
      "source": [
        "<a href=\"https://colab.research.google.com/github/TrinaDutta95/Analyzing-hallucinations-in-machine-summarization/blob/main/Rogue_Scores.ipynb\" target=\"_parent\"><img src=\"https://colab.research.google.com/assets/colab-badge.svg\" alt=\"Open In Colab\"/></a>"
      ]
    },
    {
      "cell_type": "markdown",
      "source": [
        "Necessary python libraries"
      ],
      "metadata": {
        "id": "awBtoPgqfpKI"
      }
    },
    {
      "cell_type": "code",
      "source": [
        "!pip install --user -U nltk\n",
        "!pip install rogue\n",
        "!pip install rouge-score"
      ],
      "metadata": {
        "colab": {
          "base_uri": "https://localhost:8080/"
        },
        "id": "xv_3AVipdkNZ",
        "outputId": "481dd148-25c7-4350-ab4c-172cc7e412c7"
      },
      "execution_count": null,
      "outputs": [
        {
          "output_type": "stream",
          "name": "stdout",
          "text": [
            "Looking in indexes: https://pypi.org/simple, https://us-python.pkg.dev/colab-wheels/public/simple/\n",
            "Requirement already satisfied: nltk in /usr/local/lib/python3.9/dist-packages (3.8.1)\n",
            "Requirement already satisfied: tqdm in /usr/local/lib/python3.9/dist-packages (from nltk) (4.65.0)\n",
            "Requirement already satisfied: regex>=2021.8.3 in /usr/local/lib/python3.9/dist-packages (from nltk) (2022.10.31)\n",
            "Requirement already satisfied: joblib in /usr/local/lib/python3.9/dist-packages (from nltk) (1.1.1)\n",
            "Requirement already satisfied: click in /usr/local/lib/python3.9/dist-packages (from nltk) (8.1.3)\n",
            "Looking in indexes: https://pypi.org/simple, https://us-python.pkg.dev/colab-wheels/public/simple/\n",
            "Collecting rogue\n",
            "  Downloading rogue-0.0.2.tar.gz (5.4 kB)\n",
            "  Preparing metadata (setup.py) ... \u001b[?25l\u001b[?25hdone\n",
            "Building wheels for collected packages: rogue\n",
            "  Building wheel for rogue (setup.py) ... \u001b[?25l\u001b[?25hdone\n",
            "  Created wheel for rogue: filename=rogue-0.0.2-py3-none-any.whl size=7224 sha256=3f9e15c2a72e84a7feb49802f8fbe92a9b36d71cc08df8e24afb2ed643a0917e\n",
            "  Stored in directory: /root/.cache/pip/wheels/88/65/0c/e2d3efe66c4b48cb42ed2a2c5b310b9b5884c42238096f4414\n",
            "Successfully built rogue\n",
            "Installing collected packages: rogue\n",
            "Successfully installed rogue-0.0.2\n",
            "Looking in indexes: https://pypi.org/simple, https://us-python.pkg.dev/colab-wheels/public/simple/\n",
            "Collecting rouge-score\n",
            "  Downloading rouge_score-0.1.2.tar.gz (17 kB)\n",
            "  Preparing metadata (setup.py) ... \u001b[?25l\u001b[?25hdone\n",
            "Requirement already satisfied: absl-py in /usr/local/lib/python3.9/dist-packages (from rouge-score) (1.4.0)\n",
            "Requirement already satisfied: nltk in /usr/local/lib/python3.9/dist-packages (from rouge-score) (3.8.1)\n",
            "Requirement already satisfied: numpy in /usr/local/lib/python3.9/dist-packages (from rouge-score) (1.22.4)\n",
            "Requirement already satisfied: six>=1.14.0 in /usr/local/lib/python3.9/dist-packages (from rouge-score) (1.15.0)\n",
            "Requirement already satisfied: tqdm in /usr/local/lib/python3.9/dist-packages (from nltk->rouge-score) (4.65.0)\n",
            "Requirement already satisfied: click in /usr/local/lib/python3.9/dist-packages (from nltk->rouge-score) (8.1.3)\n",
            "Requirement already satisfied: regex>=2021.8.3 in /usr/local/lib/python3.9/dist-packages (from nltk->rouge-score) (2022.10.31)\n",
            "Requirement already satisfied: joblib in /usr/local/lib/python3.9/dist-packages (from nltk->rouge-score) (1.1.1)\n",
            "Building wheels for collected packages: rouge-score\n",
            "  Building wheel for rouge-score (setup.py) ... \u001b[?25l\u001b[?25hdone\n",
            "  Created wheel for rouge-score: filename=rouge_score-0.1.2-py3-none-any.whl size=24954 sha256=0078ee22aff2e9a6fc0cb634b064f62298a7bace3ad56c8e61e0ed301b71c3c8\n",
            "  Stored in directory: /root/.cache/pip/wheels/9b/3d/39/09558097d3119ca0a4d462df68f22c6f3c1b345ac63a09b86e\n",
            "Successfully built rouge-score\n",
            "Installing collected packages: rouge-score\n",
            "Successfully installed rouge-score-0.1.2\n"
          ]
        }
      ]
    },
    {
      "cell_type": "code",
      "source": [
        "import rogue\n",
        "import nltk\n",
        "nltk.download('punkt')"
      ],
      "metadata": {
        "colab": {
          "base_uri": "https://localhost:8080/"
        },
        "id": "xqJsBIkYea6F",
        "outputId": "8739f24e-34b7-464f-e6ad-22a8ac4746f9"
      },
      "execution_count": null,
      "outputs": [
        {
          "output_type": "stream",
          "name": "stderr",
          "text": [
            "[nltk_data] Downloading package punkt to /root/nltk_data...\n",
            "[nltk_data]   Unzipping tokenizers/punkt.zip.\n"
          ]
        },
        {
          "output_type": "execute_result",
          "data": {
            "text/plain": [
              "True"
            ]
          },
          "metadata": {},
          "execution_count": 2
        }
      ]
    },
    {
      "cell_type": "markdown",
      "source": [
        "Machine generated summary"
      ],
      "metadata": {
        "id": "9Ko29-RAfw2p"
      }
    },
    {
      "cell_type": "code",
      "source": [
        "model_out='A £9.2m painting by Domenichino has gone on show in the UK for the first time since it was saved from export.'"
      ],
      "metadata": {
        "id": "oCgNhZNzfzzC"
      },
      "execution_count": null,
      "outputs": []
    },
    {
      "cell_type": "markdown",
      "source": [
        "Getting the source document and reading each sentence"
      ],
      "metadata": {
        "id": "Snr6RZUahN7X"
      }
    },
    {
      "cell_type": "code",
      "source": [
        "source = '''A Baroque masterpiece valued at £9.2m has been saved for the nation after an anonymous buyer stepped in to\n",
        "prevent it going overseas. Saint John the Evangelist, painted by Italian master Domenichino, was bought by\n",
        "a buyer from abroad in December, but its export licence was deferred. Another collector stepped forward who\n",
        "will allow it to be regularly displayed in public. It has now gone on show at the National Gallery in London.\n",
        "Domenichino’s painting was done for the Giustiniani family in the 1620s. They were among Rome’s most important\n",
        "collectors and owned a dozen works by Caravaggio. The oil painting, measuring 2 x 2.6 metres, is said to be the\n",
        "finest painting by Domenichino to remain in private hands, and the most important of his work in the UK. The\n",
        "painting was purchased by an overseas collector in December 2009 but the export licence was deferred - by the Re-\n",
        "viewing Committee on the Export of Works of Art and Objects of Cultural Interest (RCEWA) - to allow attempts\n",
        "to keep the work in the UK. Rules allow private offers if public access is available to artworks for 100 days within\n",
        "a 12-month period. National Gallery director Dr Nicholas Penny paid tribute to the unnamed collector for their\n",
        "”imagination and confidence”. ”The result is a triumph for the National Gallery, but also for enlightened legislation\n",
        "and its efficient administration,” he said. National Gallery curator Dawson Carr said: ”It is undoubtedly the best\n",
        "work by the artist remaining in private hands and its export would have been lamentable for the representation of\n",
        "Italian Baroque painting in this country.”'''"
      ],
      "metadata": {
        "id": "uyvjfCSahF_e"
      },
      "execution_count": null,
      "outputs": []
    },
    {
      "cell_type": "markdown",
      "source": [
        "Calculating Rogue score"
      ],
      "metadata": {
        "id": "mape5szhdDhA"
      }
    },
    {
      "cell_type": "code",
      "execution_count": null,
      "metadata": {
        "colab": {
          "base_uri": "https://localhost:8080/"
        },
        "id": "4W7PuV0bc_Fj",
        "outputId": "02ea939a-059b-4879-b9bf-c0ece4e1ae6f"
      },
      "outputs": [
        {
          "output_type": "stream",
          "name": "stdout",
          "text": [
            "A Baroque masterpiece valued at £9.2m has been saved for the nation after an anonymous buyer stepped in to\n",
            "prevent it going overseas.   1 \n",
            "\n",
            "{'rougeL': Score(precision=0.2916666666666667, recall=0.30434782608695654, fmeasure=0.2978723404255319)}\n",
            "Saint John the Evangelist, painted by Italian master Domenichino, was bought by\n",
            "a buyer from abroad in December, but its export licence was deferred.   2 \n",
            "\n",
            "{'rougeL': Score(precision=0.25, recall=0.2608695652173913, fmeasure=0.2553191489361702)}\n",
            "Another collector stepped forward who\n",
            "will allow it to be regularly displayed in public.   3 \n",
            "\n",
            "{'rougeL': Score(precision=0.07142857142857142, recall=0.043478260869565216, fmeasure=0.05405405405405405)}\n",
            "It has now gone on show at the National Gallery in London.   4 \n",
            "\n",
            "{'rougeL': Score(precision=0.4166666666666667, recall=0.21739130434782608, fmeasure=0.2857142857142857)}\n",
            "Domenichino’s painting was done for the Giustiniani family in the 1620s.   5 \n",
            "\n",
            "{'rougeL': Score(precision=0.25, recall=0.13043478260869565, fmeasure=0.1714285714285714)}\n",
            "They were among Rome’s most important\n",
            "collectors and owned a dozen works by Caravaggio.   6 \n",
            "\n",
            "{'rougeL': Score(precision=0.13333333333333333, recall=0.08695652173913043, fmeasure=0.10526315789473685)}\n",
            "The oil painting, measuring 2 x 2.6 metres, is said to be the\n",
            "finest painting by Domenichino to remain in private hands, and the most important of his work in the UK.   7 \n",
            "\n",
            "{'rougeL': Score(precision=0.18181818181818182, recall=0.2608695652173913, fmeasure=0.21428571428571427)}\n",
            "The\n",
            "painting was purchased by an overseas collector in December 2009 but the export licence was deferred - by the Re-\n",
            "viewing Committee on the Export of Works of Art and Objects of Cultural Interest (RCEWA) - to allow attempts\n",
            "to keep the work in the UK.   8 \n",
            "\n",
            "{'rougeL': Score(precision=0.13333333333333333, recall=0.2608695652173913, fmeasure=0.1764705882352941)}\n",
            "Rules allow private offers if public access is available to artworks for 100 days within\n",
            "a 12-month period.   9 \n",
            "\n",
            "{'rougeL': Score(precision=0.05263157894736842, recall=0.043478260869565216, fmeasure=0.04761904761904762)}\n",
            "National Gallery director Dr Nicholas Penny paid tribute to the unnamed collector for their\n",
            "”imagination and confidence”.   10 \n",
            "\n",
            "{'rougeL': Score(precision=0.11764705882352941, recall=0.08695652173913043, fmeasure=0.09999999999999999)}\n",
            "”The result is a triumph for the National Gallery, but also for enlightened legislation\n",
            "and its efficient administration,” he said.   11 \n",
            "\n",
            "{'rougeL': Score(precision=0.15, recall=0.13043478260869565, fmeasure=0.13953488372093023)}\n",
            "National Gallery curator Dawson Carr said: ”It is undoubtedly the best\n",
            "work by the artist remaining in private hands and its export would have been lamentable for the representation of\n",
            "Italian Baroque painting in this country.”   12 \n",
            "\n",
            "{'rougeL': Score(precision=0.1111111111111111, recall=0.17391304347826086, fmeasure=0.13559322033898305)}\n"
          ]
        }
      ],
      "source": [
        "from rouge_score import rouge_scorer\n",
        "import csv\n",
        "\n",
        "tokens = nltk.sent_tokenize(source)\n",
        "i=1\n",
        "for t in tokens:\n",
        "    print(t,\" \",i ,\"\\n\")\n",
        "    i=i+1\n",
        "    ref=t\n",
        "    scorer1 = rouge_scorer.RougeScorer(['rougeL'], use_stemmer=True)\n",
        "    scores = scorer1.score(model_out, ref)\n",
        "    print(scores)\n",
        "    with open(\"rogue_scores.csv\", 'a') as f: \n",
        "      for key, value in scores.items(): \n",
        "        f.write('%s:%s\\n' % (key, value))\n"
      ]
    },
    {
      "cell_type": "markdown",
      "source": [
        "Calculating rogue score"
      ],
      "metadata": {
        "id": "fvyyzk-Pe8Va"
      }
    },
    {
      "cell_type": "code",
      "source": [
        "from rouge_score import rouge_scorer\n",
        "\n",
        "scorer = rouge_scorer.RougeScorer(['rouge1', 'rougeL'], use_stemmer=True)\n",
        "scores = scorer.score('Fantasy classics Peter Pan and Alice in Wonderland make the line-up for babies to teens, compiled for the publisher’s 70th anniversary',\n",
        "                      'Peter Pan, Alice in Wonderland and Roald Dahl are among the best-selling children’s books of all time.')\n",
        "print(scores)"
      ],
      "metadata": {
        "colab": {
          "base_uri": "https://localhost:8080/"
        },
        "id": "SQLvkqfKe_Kk",
        "outputId": "93b4d5a6-d85c-428d-d1c8-88695d3db4c2"
      },
      "execution_count": null,
      "outputs": [
        {
          "output_type": "stream",
          "name": "stdout",
          "text": [
            "{'rouge1': Score(precision=0.42105263157894735, recall=0.34782608695652173, fmeasure=0.380952380952381), 'rougeL': Score(precision=0.3684210526315789, recall=0.30434782608695654, fmeasure=0.3333333333333333)}\n"
          ]
        }
      ]
    }
  ]
}